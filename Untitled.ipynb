{
 "cells": [
  {
   "cell_type": "code",
   "execution_count": 1,
   "id": "f5078bd5",
   "metadata": {},
   "outputs": [
    {
     "ename": "MemoryError",
     "evalue": "",
     "output_type": "error",
     "traceback": [
      "\u001b[1;31m---------------------------------------------------------------------------\u001b[0m",
      "\u001b[1;31mMemoryError\u001b[0m                               Traceback (most recent call last)",
      "Cell \u001b[1;32mIn[1], line 40\u001b[0m\n\u001b[0;32m     38\u001b[0m ancestor \u001b[38;5;241m=\u001b[39m data\u001b[38;5;241m.\u001b[39mget(current_key)\n\u001b[0;32m     39\u001b[0m \u001b[38;5;28;01mif\u001b[39;00m ancestor:\n\u001b[1;32m---> 40\u001b[0m     \u001b[43mancestor_values\u001b[49m\u001b[38;5;241;43m.\u001b[39;49m\u001b[43mextend\u001b[49m\u001b[43m(\u001b[49m\u001b[43mancestor\u001b[49m\u001b[43m[\u001b[49m\u001b[38;5;241;43m2\u001b[39;49m\u001b[43m]\u001b[49m\u001b[43m)\u001b[49m\n\u001b[0;32m     41\u001b[0m     current_key \u001b[38;5;241m=\u001b[39m ancestor[\u001b[38;5;241m0\u001b[39m]\n\u001b[0;32m     42\u001b[0m \u001b[38;5;28;01melse\u001b[39;00m:\n",
      "\u001b[1;31mMemoryError\u001b[0m: "
     ]
    }
   ],
   "source": [
    "import random\n",
    "\n",
    "random.seed(1)\n",
    "col_1 = list(range(100, 1000))\n",
    "col_2 = list(range(100))\n",
    "\n",
    "lst = []\n",
    "for i in col_1:\n",
    "    if random.random() > 0.4:\n",
    "        lst.append([random.choice(col_2), i, [i]])\n",
    "    else:\n",
    "        lst.append([random.choice(col_1), i, [i]])\n",
    "\n",
    "for i in col_2:\n",
    "    lst.append([None, i, [i]])\n",
    "\n",
    "# Создаем словарь для быстрого доступа к строкам по ключу\n",
    "data = {row[1]: row for row in lst}\n",
    "\n",
    "# Функция для получения значений всех потомков\n",
    "def get_descendant_values(key):\n",
    "    values = []\n",
    "    queue = [key]\n",
    "    while queue:\n",
    "        current_key = queue.pop()\n",
    "        for row in lst:\n",
    "            if row[0] == current_key:\n",
    "                values.extend(row[2])  # Добавляем значения потомка\n",
    "                queue.append(row[1])   # Добавляем ключ потомка в очередь\n",
    "    return values\n",
    "\n",
    "# Проходим по всем строкам и обновляем значения\n",
    "for row in lst:\n",
    "    # Находим значения всех предков\n",
    "    ancestor_values = []\n",
    "    current_key = row[0]\n",
    "    while current_key is not None:\n",
    "        ancestor = data.get(current_key)\n",
    "        if ancestor:\n",
    "            ancestor_values.extend(ancestor[2])\n",
    "            current_key = ancestor[0]\n",
    "        else:\n",
    "            current_key = None\n",
    "\n",
    "    # Находим значения всех потомков\n",
    "    descendant_values = get_descendant_values(row[1])\n",
    "\n",
    "    # Обновляем значения в строке\n",
    "    row[2] = ancestor_values + row[2] + descendant_values\n",
    "\n",
    "# Теперь каждая строка содержит объединенные значения своих предков и потомков\n"
   ]
  },
  {
   "cell_type": "code",
   "execution_count": null,
   "id": "5cfcd21d",
   "metadata": {},
   "outputs": [],
   "source": []
  }
 ],
 "metadata": {
  "kernelspec": {
   "display_name": "Python 3 (ipykernel)",
   "language": "python",
   "name": "python3"
  },
  "language_info": {
   "codemirror_mode": {
    "name": "ipython",
    "version": 3
   },
   "file_extension": ".py",
   "mimetype": "text/x-python",
   "name": "python",
   "nbconvert_exporter": "python",
   "pygments_lexer": "ipython3",
   "version": "3.10.9"
  }
 },
 "nbformat": 4,
 "nbformat_minor": 5
}
